{
 "cells": [
  {
   "cell_type": "code",
   "execution_count": 12,
   "metadata": {},
   "outputs": [],
   "source": [
    "import pandas as pd \n",
    "import matplotlib.pyplot as plt\n",
    "import seaborn as sns\n",
    "from sklearn.metrics.pairwise import cosine_similarity\n",
    "from sklearn.preprocessing import OneHotEncoder\n",
    "from sklearn.compose import ColumnTransformer\n",
    "from sklearn.pipeline import Pipeline"
   ]
  },
  {
   "cell_type": "code",
   "execution_count": null,
   "metadata": {},
   "outputs": [],
   "source": [
    "df = pd.read_csv('Datasets/df_final_eda.csv')\n",
    "\n",
    "df_ml = pd.DataFrame(df)"
   ]
  },
  {
   "cell_type": "code",
   "execution_count": 3,
   "metadata": {},
   "outputs": [
    {
     "data": {
      "text/html": [
       "<div>\n",
       "<style scoped>\n",
       "    .dataframe tbody tr th:only-of-type {\n",
       "        vertical-align: middle;\n",
       "    }\n",
       "\n",
       "    .dataframe tbody tr th {\n",
       "        vertical-align: top;\n",
       "    }\n",
       "\n",
       "    .dataframe thead th {\n",
       "        text-align: right;\n",
       "    }\n",
       "</style>\n",
       "<table border=\"1\" class=\"dataframe\">\n",
       "  <thead>\n",
       "    <tr style=\"text-align: right;\">\n",
       "      <th></th>\n",
       "      <th>Unnamed: 0</th>\n",
       "      <th>user_id_x</th>\n",
       "      <th>Item_id</th>\n",
       "      <th>Item_name</th>\n",
       "      <th>Hours_Played</th>\n",
       "      <th>genres</th>\n",
       "      <th>app_name</th>\n",
       "      <th>release_year</th>\n",
       "      <th>id</th>\n",
       "      <th>user_id_y</th>\n",
       "      <th>Recommend</th>\n",
       "      <th>Year_Posted</th>\n",
       "      <th>sentiment_analysis</th>\n",
       "    </tr>\n",
       "  </thead>\n",
       "  <tbody>\n",
       "    <tr>\n",
       "      <th>0</th>\n",
       "      <td>0</td>\n",
       "      <td>76561198035860222</td>\n",
       "      <td>65930</td>\n",
       "      <td>The Bureau: XCOM Declassified</td>\n",
       "      <td>0.00</td>\n",
       "      <td>Action</td>\n",
       "      <td>The Bureau: XCOM Declassified</td>\n",
       "      <td>2013</td>\n",
       "      <td>65930</td>\n",
       "      <td>longinus</td>\n",
       "      <td>False</td>\n",
       "      <td>2014</td>\n",
       "      <td>0</td>\n",
       "    </tr>\n",
       "    <tr>\n",
       "      <th>1</th>\n",
       "      <td>1</td>\n",
       "      <td>76561198035860222</td>\n",
       "      <td>65930</td>\n",
       "      <td>The Bureau: XCOM Declassified</td>\n",
       "      <td>0.00</td>\n",
       "      <td>Action</td>\n",
       "      <td>The Bureau: XCOM Declassified</td>\n",
       "      <td>2013</td>\n",
       "      <td>65930</td>\n",
       "      <td>manuel_vega182002</td>\n",
       "      <td>True</td>\n",
       "      <td>2015</td>\n",
       "      <td>2</td>\n",
       "    </tr>\n",
       "    <tr>\n",
       "      <th>2</th>\n",
       "      <td>2</td>\n",
       "      <td>GGargula</td>\n",
       "      <td>65930</td>\n",
       "      <td>The Bureau: XCOM Declassified</td>\n",
       "      <td>13.57</td>\n",
       "      <td>Action</td>\n",
       "      <td>The Bureau: XCOM Declassified</td>\n",
       "      <td>2013</td>\n",
       "      <td>65930</td>\n",
       "      <td>longinus</td>\n",
       "      <td>False</td>\n",
       "      <td>2014</td>\n",
       "      <td>0</td>\n",
       "    </tr>\n",
       "    <tr>\n",
       "      <th>3</th>\n",
       "      <td>3</td>\n",
       "      <td>GGargula</td>\n",
       "      <td>65930</td>\n",
       "      <td>The Bureau: XCOM Declassified</td>\n",
       "      <td>13.57</td>\n",
       "      <td>Action</td>\n",
       "      <td>The Bureau: XCOM Declassified</td>\n",
       "      <td>2013</td>\n",
       "      <td>65930</td>\n",
       "      <td>manuel_vega182002</td>\n",
       "      <td>True</td>\n",
       "      <td>2015</td>\n",
       "      <td>2</td>\n",
       "    </tr>\n",
       "    <tr>\n",
       "      <th>4</th>\n",
       "      <td>4</td>\n",
       "      <td>76561198085547365</td>\n",
       "      <td>65930</td>\n",
       "      <td>The Bureau: XCOM Declassified</td>\n",
       "      <td>0.00</td>\n",
       "      <td>Action</td>\n",
       "      <td>The Bureau: XCOM Declassified</td>\n",
       "      <td>2013</td>\n",
       "      <td>65930</td>\n",
       "      <td>longinus</td>\n",
       "      <td>False</td>\n",
       "      <td>2014</td>\n",
       "      <td>0</td>\n",
       "    </tr>\n",
       "  </tbody>\n",
       "</table>\n",
       "</div>"
      ],
      "text/plain": [
       "   Unnamed: 0          user_id_x  Item_id                      Item_name  \\\n",
       "0           0  76561198035860222    65930  The Bureau: XCOM Declassified   \n",
       "1           1  76561198035860222    65930  The Bureau: XCOM Declassified   \n",
       "2           2           GGargula    65930  The Bureau: XCOM Declassified   \n",
       "3           3           GGargula    65930  The Bureau: XCOM Declassified   \n",
       "4           4  76561198085547365    65930  The Bureau: XCOM Declassified   \n",
       "\n",
       "   Hours_Played  genres                       app_name  release_year     id  \\\n",
       "0          0.00  Action  The Bureau: XCOM Declassified          2013  65930   \n",
       "1          0.00  Action  The Bureau: XCOM Declassified          2013  65930   \n",
       "2         13.57  Action  The Bureau: XCOM Declassified          2013  65930   \n",
       "3         13.57  Action  The Bureau: XCOM Declassified          2013  65930   \n",
       "4          0.00  Action  The Bureau: XCOM Declassified          2013  65930   \n",
       "\n",
       "           user_id_y  Recommend  Year_Posted  sentiment_analysis  \n",
       "0           longinus      False         2014                   0  \n",
       "1  manuel_vega182002       True         2015                   2  \n",
       "2           longinus      False         2014                   0  \n",
       "3  manuel_vega182002       True         2015                   2  \n",
       "4           longinus      False         2014                   0  "
      ]
     },
     "execution_count": 3,
     "metadata": {},
     "output_type": "execute_result"
    }
   ],
   "source": [
    "df_ml.head()"
   ]
  },
  {
   "cell_type": "code",
   "execution_count": 4,
   "metadata": {},
   "outputs": [],
   "source": [
    "df_final_ml = df_ml[['genres', 'app_name','Item_name','Hours_Played', 'release_year','sentiment_analysis']]"
   ]
  },
  {
   "cell_type": "code",
   "execution_count": null,
   "metadata": {},
   "outputs": [],
   "source": [
    "df_final_ml.shape"
   ]
  },
  {
   "cell_type": "code",
   "execution_count": null,
   "metadata": {},
   "outputs": [],
   "source": [
    "sample_df = df_final_ml.sample(2500).reset_index(drop=True)  ## Se tomo una muestra de 2500 datos para el sistema de recomendacion"
   ]
  },
  {
   "cell_type": "code",
   "execution_count": null,
   "metadata": {},
   "outputs": [],
   "source": [
    "# Se convierte el DataFrame a archivo csv\n",
    "sample_df.to_csv(\"Datasets/Machine_learning.csv\")"
   ]
  }
 ],
 "metadata": {
  "kernelspec": {
   "display_name": "venv",
   "language": "python",
   "name": "python3"
  },
  "language_info": {
   "codemirror_mode": {
    "name": "ipython",
    "version": 3
   },
   "file_extension": ".py",
   "mimetype": "text/x-python",
   "name": "python",
   "nbconvert_exporter": "python",
   "pygments_lexer": "ipython3",
   "version": "3.10.12"
  }
 },
 "nbformat": 4,
 "nbformat_minor": 2
}
