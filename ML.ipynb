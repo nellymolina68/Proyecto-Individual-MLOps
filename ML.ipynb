{
 "cells": [
  {
   "cell_type": "code",
   "execution_count": 12,
   "metadata": {},
   "outputs": [],
   "source": [
    "import pandas as pd \n",
    "import matplotlib.pyplot as plt\n",
    "import seaborn as sns\n",
    "from sklearn.metrics.pairwise import cosine_similarity\n",
    "from sklearn.preprocessing import OneHotEncoder\n",
    "from sklearn.compose import ColumnTransformer\n",
    "from sklearn.pipeline import Pipeline"
   ]
  },
  {
   "cell_type": "code",
   "execution_count": null,
   "metadata": {},
   "outputs": [],
   "source": [
    "df = pd.read_csv('Datasets/df_final_eda.csv')\n",
    "\n",
    "df_ml = pd.DataFrame(df)"
   ]
  },
  {
   "cell_type": "code",
   "execution_count": 3,
   "metadata": {},
   "outputs": [
    {
     "data": {
      "text/html": [
       "<div>\n",
       "<style scoped>\n",
       "    .dataframe tbody tr th:only-of-type {\n",
       "        vertical-align: middle;\n",
       "    }\n",
       "\n",
       "    .dataframe tbody tr th {\n",
       "        vertical-align: top;\n",
       "    }\n",
       "\n",
       "    .dataframe thead th {\n",
       "        text-align: right;\n",
       "    }\n",
       "</style>\n",
       "<table border=\"1\" class=\"dataframe\">\n",
       "  <thead>\n",
       "    <tr style=\"text-align: right;\">\n",
       "      <th></th>\n",
       "      <th>Unnamed: 0</th>\n",
       "      <th>user_id_x</th>\n",
       "      <th>Item_id</th>\n",
       "      <th>Item_name</th>\n",
       "      <th>Hours_Played</th>\n",
       "      <th>genres</th>\n",
       "      <th>app_name</th>\n",
       "      <th>release_year</th>\n",
       "      <th>id</th>\n",
       "      <th>user_id_y</th>\n",
       "      <th>Recommend</th>\n",
       "      <th>Year_Posted</th>\n",
       "      <th>sentiment_analysis</th>\n",
       "    </tr>\n",
       "  </thead>\n",
       "  <tbody>\n",
       "    <tr>\n",
       "      <th>0</th>\n",
       "      <td>0</td>\n",
       "      <td>76561198035860222</td>\n",
       "      <td>65930</td>\n",
       "      <td>The Bureau: XCOM Declassified</td>\n",
       "      <td>0.00</td>\n",
       "      <td>Action</td>\n",
       "      <td>The Bureau: XCOM Declassified</td>\n",
       "      <td>2013</td>\n",
       "      <td>65930</td>\n",
       "      <td>longinus</td>\n",
       "      <td>False</td>\n",
       "      <td>2014</td>\n",
       "      <td>0</td>\n",
       "    </tr>\n",
       "    <tr>\n",
       "      <th>1</th>\n",
       "      <td>1</td>\n",
       "      <td>76561198035860222</td>\n",
       "      <td>65930</td>\n",
       "      <td>The Bureau: XCOM Declassified</td>\n",
       "      <td>0.00</td>\n",
       "      <td>Action</td>\n",
       "      <td>The Bureau: XCOM Declassified</td>\n",
       "      <td>2013</td>\n",
       "      <td>65930</td>\n",
       "      <td>manuel_vega182002</td>\n",
       "      <td>True</td>\n",
       "      <td>2015</td>\n",
       "      <td>2</td>\n",
       "    </tr>\n",
       "    <tr>\n",
       "      <th>2</th>\n",
       "      <td>2</td>\n",
       "      <td>GGargula</td>\n",
       "      <td>65930</td>\n",
       "      <td>The Bureau: XCOM Declassified</td>\n",
       "      <td>13.57</td>\n",
       "      <td>Action</td>\n",
       "      <td>The Bureau: XCOM Declassified</td>\n",
       "      <td>2013</td>\n",
       "      <td>65930</td>\n",
       "      <td>longinus</td>\n",
       "      <td>False</td>\n",
       "      <td>2014</td>\n",
       "      <td>0</td>\n",
       "    </tr>\n",
       "    <tr>\n",
       "      <th>3</th>\n",
       "      <td>3</td>\n",
       "      <td>GGargula</td>\n",
       "      <td>65930</td>\n",
       "      <td>The Bureau: XCOM Declassified</td>\n",
       "      <td>13.57</td>\n",
       "      <td>Action</td>\n",
       "      <td>The Bureau: XCOM Declassified</td>\n",
       "      <td>2013</td>\n",
       "      <td>65930</td>\n",
       "      <td>manuel_vega182002</td>\n",
       "      <td>True</td>\n",
       "      <td>2015</td>\n",
       "      <td>2</td>\n",
       "    </tr>\n",
       "    <tr>\n",
       "      <th>4</th>\n",
       "      <td>4</td>\n",
       "      <td>76561198085547365</td>\n",
       "      <td>65930</td>\n",
       "      <td>The Bureau: XCOM Declassified</td>\n",
       "      <td>0.00</td>\n",
       "      <td>Action</td>\n",
       "      <td>The Bureau: XCOM Declassified</td>\n",
       "      <td>2013</td>\n",
       "      <td>65930</td>\n",
       "      <td>longinus</td>\n",
       "      <td>False</td>\n",
       "      <td>2014</td>\n",
       "      <td>0</td>\n",
       "    </tr>\n",
       "  </tbody>\n",
       "</table>\n",
       "</div>"
      ],
      "text/plain": [
       "   Unnamed: 0          user_id_x  Item_id                      Item_name  \\\n",
       "0           0  76561198035860222    65930  The Bureau: XCOM Declassified   \n",
       "1           1  76561198035860222    65930  The Bureau: XCOM Declassified   \n",
       "2           2           GGargula    65930  The Bureau: XCOM Declassified   \n",
       "3           3           GGargula    65930  The Bureau: XCOM Declassified   \n",
       "4           4  76561198085547365    65930  The Bureau: XCOM Declassified   \n",
       "\n",
       "   Hours_Played  genres                       app_name  release_year     id  \\\n",
       "0          0.00  Action  The Bureau: XCOM Declassified          2013  65930   \n",
       "1          0.00  Action  The Bureau: XCOM Declassified          2013  65930   \n",
       "2         13.57  Action  The Bureau: XCOM Declassified          2013  65930   \n",
       "3         13.57  Action  The Bureau: XCOM Declassified          2013  65930   \n",
       "4          0.00  Action  The Bureau: XCOM Declassified          2013  65930   \n",
       "\n",
       "           user_id_y  Recommend  Year_Posted  sentiment_analysis  \n",
       "0           longinus      False         2014                   0  \n",
       "1  manuel_vega182002       True         2015                   2  \n",
       "2           longinus      False         2014                   0  \n",
       "3  manuel_vega182002       True         2015                   2  \n",
       "4           longinus      False         2014                   0  "
      ]
     },
     "execution_count": 3,
     "metadata": {},
     "output_type": "execute_result"
    }
   ],
   "source": [
    "df_ml.head()"
   ]
  },
  {
   "cell_type": "code",
   "execution_count": 4,
   "metadata": {},
   "outputs": [],
   "source": [
    "df_final_ml = df_ml[['genres', 'app_name','Item_name','Hours_Played', 'release_year','sentiment_analysis']]"
   ]
  },
  {
   "cell_type": "code",
   "execution_count": 11,
   "metadata": {},
   "outputs": [
    {
     "ename": "NameError",
     "evalue": "name 'df_final_ml' is not defined",
     "output_type": "error",
     "traceback": [
      "\u001b[0;31m---------------------------------------------------------------------------\u001b[0m",
      "\u001b[0;31mNameError\u001b[0m                                 Traceback (most recent call last)",
      "\u001b[1;32m/home/alfredo/Documentos/Proyecto-Individual-MLOps/ML.ipynb Cell 5\u001b[0m line \u001b[0;36m1\n\u001b[0;32m----> <a href='vscode-notebook-cell:/home/alfredo/Documentos/Proyecto-Individual-MLOps/ML.ipynb#W4sZmlsZQ%3D%3D?line=0'>1</a>\u001b[0m df_final_ml\u001b[39m.\u001b[39mshape\n",
      "\u001b[0;31mNameError\u001b[0m: name 'df_final_ml' is not defined"
     ]
    }
   ],
   "source": [
    "df_final_ml.shape"
   ]
  },
  {
   "cell_type": "code",
   "execution_count": 9,
   "metadata": {},
   "outputs": [],
   "source": [
    "sample_df = df_final_ml.sample(2500).reset_index(drop=True)"
   ]
  },
  {
   "cell_type": "code",
   "execution_count": 10,
   "metadata": {},
   "outputs": [],
   "source": [
    "df1 = pd.read_csv('Datasets/funcion_1.csv')"
   ]
  },
  {
   "cell_type": "code",
   "execution_count": 9,
   "metadata": {},
   "outputs": [
    {
     "data": {
      "text/html": [
       "<div>\n",
       "<style scoped>\n",
       "    .dataframe tbody tr th:only-of-type {\n",
       "        vertical-align: middle;\n",
       "    }\n",
       "\n",
       "    .dataframe tbody tr th {\n",
       "        vertical-align: top;\n",
       "    }\n",
       "\n",
       "    .dataframe thead th {\n",
       "        text-align: right;\n",
       "    }\n",
       "</style>\n",
       "<table border=\"1\" class=\"dataframe\">\n",
       "  <thead>\n",
       "    <tr style=\"text-align: right;\">\n",
       "      <th></th>\n",
       "      <th>Unnamed: 0</th>\n",
       "      <th>genres</th>\n",
       "      <th>release_year</th>\n",
       "      <th>Hours_Played</th>\n",
       "    </tr>\n",
       "  </thead>\n",
       "  <tbody>\n",
       "    <tr>\n",
       "      <th>0</th>\n",
       "      <td>0</td>\n",
       "      <td>Action</td>\n",
       "      <td>1983</td>\n",
       "      <td>59.74</td>\n",
       "    </tr>\n",
       "    <tr>\n",
       "      <th>1</th>\n",
       "      <td>1</td>\n",
       "      <td>Action</td>\n",
       "      <td>1984</td>\n",
       "      <td>6.40</td>\n",
       "    </tr>\n",
       "    <tr>\n",
       "      <th>2</th>\n",
       "      <td>2</td>\n",
       "      <td>Action</td>\n",
       "      <td>1988</td>\n",
       "      <td>270.71</td>\n",
       "    </tr>\n",
       "    <tr>\n",
       "      <th>3</th>\n",
       "      <td>3</td>\n",
       "      <td>Action</td>\n",
       "      <td>1989</td>\n",
       "      <td>10.11</td>\n",
       "    </tr>\n",
       "    <tr>\n",
       "      <th>4</th>\n",
       "      <td>4</td>\n",
       "      <td>Action</td>\n",
       "      <td>1990</td>\n",
       "      <td>313.17</td>\n",
       "    </tr>\n",
       "  </tbody>\n",
       "</table>\n",
       "</div>"
      ],
      "text/plain": [
       "   Unnamed: 0  genres  release_year  Hours_Played\n",
       "0           0  Action          1983         59.74\n",
       "1           1  Action          1984          6.40\n",
       "2           2  Action          1988        270.71\n",
       "3           3  Action          1989         10.11\n",
       "4           4  Action          1990        313.17"
      ]
     },
     "execution_count": 9,
     "metadata": {},
     "output_type": "execute_result"
    }
   ],
   "source": [
    "df1.head()"
   ]
  }
 ],
 "metadata": {
  "kernelspec": {
   "display_name": "venv",
   "language": "python",
   "name": "python3"
  },
  "language_info": {
   "codemirror_mode": {
    "name": "ipython",
    "version": 3
   },
   "file_extension": ".py",
   "mimetype": "text/x-python",
   "name": "python",
   "nbconvert_exporter": "python",
   "pygments_lexer": "ipython3",
   "version": "3.10.12"
  }
 },
 "nbformat": 4,
 "nbformat_minor": 2
}
