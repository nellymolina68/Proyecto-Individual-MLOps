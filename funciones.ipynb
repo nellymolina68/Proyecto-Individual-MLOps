{
 "cells": [
  {
   "cell_type": "code",
   "execution_count": 1,
   "metadata": {},
   "outputs": [],
   "source": [
    "# Import librerias utilizadas\n",
    "import pandas as pd \n",
    "# Funcion 1:\n",
    "\n",
    "df_fc1 = pd.read_csv('funcion_1.csv')\n",
    "\n",
    "df_funcion1 = pd.DataFrame(df_fc1)\n"
   ]
  },
  {
   "cell_type": "code",
   "execution_count": 2,
   "metadata": {},
   "outputs": [
    {
     "data": {
      "text/plain": [
       "(343, 4)"
      ]
     },
     "execution_count": 2,
     "metadata": {},
     "output_type": "execute_result"
    }
   ],
   "source": [
    "df_funcion1.shape"
   ]
  },
  {
   "cell_type": "code",
   "execution_count": 3,
   "metadata": {},
   "outputs": [],
   "source": [
    "# Elimino columna 'Unnamed' no es necesaria\n",
    "df_final_f1 = df_funcion1.drop('Unnamed: 0', axis=1)"
   ]
  },
  {
   "cell_type": "code",
   "execution_count": 4,
   "metadata": {},
   "outputs": [],
   "source": [
    "# Funcion 1\n",
    "def PlayTimeGenre(genero):\n",
    "    # Convertir el género a minúsculas\n",
    "    genero = genero.lower()\n",
    "    \n",
    "    # Convertir los géneros del dataframe a minúsculas\n",
    "    df_final_f1['genres'] = df_final_f1['genres'].str.lower()\n",
    "    \n",
    "    # Verificar si el género existe en el dataframe\n",
    "    if genero not in df_final_f1['genres'].unique():\n",
    "        return \"No se encontró el género solicitado\"\n",
    "    \n",
    "    # Filtrar el dataframe por el género especificado\n",
    "    df = df_final_f1[df_final_f1['genres'] == genero]\n",
    "    \n",
    "    # Encontrar el año con más horas jugadas\n",
    "    max_year = df.loc[df['Hours_Played'].idxmax(), 'release_year']\n",
    "    \n",
    "    return {\"Año de lanzamiento con más horas jugadas para Género \" + genero : int(max_year)}\n",
    "\n",
    "\n"
   ]
  },
  {
   "cell_type": "code",
   "execution_count": 5,
   "metadata": {},
   "outputs": [
    {
     "name": "stdout",
     "output_type": "stream",
     "text": [
      "{'Año de lanzamiento con más horas jugadas para Género action': 2012}\n"
     ]
    }
   ],
   "source": [
    "resultado1 = PlayTimeGenre('ACTION')\n",
    "print(resultado1)"
   ]
  },
  {
   "cell_type": "code",
   "execution_count": 10,
   "metadata": {},
   "outputs": [],
   "source": [
    "# Funcion 2\n",
    "df_fc2 = pd.read_csv('funcion_2.csv')\n",
    "\n",
    "df_funcion2 = pd.DataFrame(df_fc2)"
   ]
  },
  {
   "cell_type": "code",
   "execution_count": 12,
   "metadata": {},
   "outputs": [
    {
     "data": {
      "text/plain": [
       "(343, 5)"
      ]
     },
     "execution_count": 12,
     "metadata": {},
     "output_type": "execute_result"
    }
   ],
   "source": [
    "df_funcion2.shape"
   ]
  },
  {
   "cell_type": "code",
   "execution_count": 13,
   "metadata": {},
   "outputs": [],
   "source": [
    "# Elimino columna 'Unnamed' no es necesaria\n",
    "df_final_f2 = df_funcion2.drop('Unnamed: 0', axis=1)"
   ]
  },
  {
   "cell_type": "code",
   "execution_count": 14,
   "metadata": {},
   "outputs": [
    {
     "data": {
      "text/html": [
       "<div>\n",
       "<style scoped>\n",
       "    .dataframe tbody tr th:only-of-type {\n",
       "        vertical-align: middle;\n",
       "    }\n",
       "\n",
       "    .dataframe tbody tr th {\n",
       "        vertical-align: top;\n",
       "    }\n",
       "\n",
       "    .dataframe thead th {\n",
       "        text-align: right;\n",
       "    }\n",
       "</style>\n",
       "<table border=\"1\" class=\"dataframe\">\n",
       "  <thead>\n",
       "    <tr style=\"text-align: right;\">\n",
       "      <th></th>\n",
       "      <th>genres</th>\n",
       "      <th>user_id</th>\n",
       "      <th>release_year</th>\n",
       "      <th>Hours_Played</th>\n",
       "    </tr>\n",
       "  </thead>\n",
       "  <tbody>\n",
       "    <tr>\n",
       "      <th>0</th>\n",
       "      <td>Action</td>\n",
       "      <td>76561197966936422</td>\n",
       "      <td>1983</td>\n",
       "      <td>5.52</td>\n",
       "    </tr>\n",
       "    <tr>\n",
       "      <th>1</th>\n",
       "      <td>Action</td>\n",
       "      <td>tankmannz</td>\n",
       "      <td>1984</td>\n",
       "      <td>1.97</td>\n",
       "    </tr>\n",
       "    <tr>\n",
       "      <th>2</th>\n",
       "      <td>Action</td>\n",
       "      <td>DownSyndromeKid</td>\n",
       "      <td>1988</td>\n",
       "      <td>11.07</td>\n",
       "    </tr>\n",
       "    <tr>\n",
       "      <th>3</th>\n",
       "      <td>Action</td>\n",
       "      <td>starfleetbrat</td>\n",
       "      <td>1989</td>\n",
       "      <td>8.23</td>\n",
       "    </tr>\n",
       "    <tr>\n",
       "      <th>4</th>\n",
       "      <td>Action</td>\n",
       "      <td>76561198041356854</td>\n",
       "      <td>1990</td>\n",
       "      <td>23.73</td>\n",
       "    </tr>\n",
       "  </tbody>\n",
       "</table>\n",
       "</div>"
      ],
      "text/plain": [
       "   genres            user_id  release_year  Hours_Played\n",
       "0  Action  76561197966936422          1983          5.52\n",
       "1  Action          tankmannz          1984          1.97\n",
       "2  Action    DownSyndromeKid          1988         11.07\n",
       "3  Action      starfleetbrat          1989          8.23\n",
       "4  Action  76561198041356854          1990         23.73"
      ]
     },
     "execution_count": 14,
     "metadata": {},
     "output_type": "execute_result"
    }
   ],
   "source": [
    "df_final_f2.head()"
   ]
  },
  {
   "cell_type": "code",
   "execution_count": 30,
   "metadata": {},
   "outputs": [],
   "source": [
    "def UserForGenre(genero):\n",
    "    # Filtrar el DataFrame por el género especificado\n",
    "    df_genero = df_final_f2[df_final_f2['genres'] == genero]\n",
    "\n",
    "    if df_genero.empty:\n",
    "        return \"No se encontraron registros para el género especificado.\"\n",
    "\n",
    "    # Obtener el usuario con más horas jugadas para ese género\n",
    "    usuario_mas_horas = df_genero[df_genero['Hours_Played'] == df_genero['Hours_Played'].max()]['user_id'].values[0]\n",
    "\n",
    "    # Agrupar por año y sumar las horas jugadas\n",
    "    horas_por_anio = df_genero.groupby('release_year')['Hours_Played'].sum().reset_index()\n",
    "\n",
    "    # Ordenar las filas por año\n",
    "    horas_por_anio = horas_por_anio.sort_values(by='release_year')\n",
    "\n",
    "    # Redondear los valores en la lista de acumulación de horas jugadas a 2 decimales\n",
    "    horas_por_anio['Hours_Played'] = horas_por_anio['Hours_Played'].round(2)\n",
    "\n",
    "    # Crear una lista de diccionarios con la acumulación de horas jugadas por año\n",
    "    lista_horas_por_anio = [{\"Año\": anio, \"Horas\": horas} for anio, horas in zip(horas_por_anio['release_year'], horas_por_anio['Hours_Played'])]\n",
    "\n",
    "    # Crear el diccionario de retorno\n",
    "    resultado = {\"Usuario con más horas jugadas para \" + genero: usuario_mas_horas, \"Horas jugadas\": lista_horas_por_anio}\n",
    "\n",
    "    return resultado\n"
   ]
  },
  {
   "cell_type": "code",
   "execution_count": 31,
   "metadata": {},
   "outputs": [
    {
     "name": "stdout",
     "output_type": "stream",
     "text": [
      "{'Usuario con más horas jugadas para Action': 'theoriginalmasta', 'Horas jugadas': [{'Año': 1983, 'Horas': 5.52}, {'Año': 1984, 'Horas': 1.97}, {'Año': 1988, 'Horas': 11.07}, {'Año': 1989, 'Horas': 8.23}, {'Año': 1990, 'Horas': 23.73}, {'Año': 1991, 'Horas': 12.68}, {'Año': 1992, 'Horas': 10.08}, {'Año': 1993, 'Horas': 58.12}, {'Año': 1994, 'Horas': 92.32}, {'Año': 1995, 'Horas': 173.84}, {'Año': 1996, 'Horas': 130.98}, {'Año': 1997, 'Horas': 111.32}, {'Año': 1998, 'Horas': 1281.65}, {'Año': 1999, 'Horas': 2503.53}, {'Año': 2000, 'Horas': 5939.68}, {'Año': 2001, 'Horas': 2513.72}, {'Año': 2002, 'Horas': 214.0}, {'Año': 2003, 'Horas': 3142.2}, {'Año': 2004, 'Horas': 7987.68}, {'Año': 2005, 'Horas': 1351.88}, {'Año': 2006, 'Horas': 4241.37}, {'Año': 2007, 'Horas': 1879.74}, {'Año': 2008, 'Horas': 3680.5}, {'Año': 2009, 'Horas': 6359.15}, {'Año': 2010, 'Horas': 5265.02}, {'Año': 2011, 'Horas': 6851.11}, {'Año': 2012, 'Horas': 7873.46}, {'Año': 2013, 'Horas': 6826.03}, {'Año': 2014, 'Horas': 4977.58}, {'Año': 2015, 'Horas': 5208.53}, {'Año': 2016, 'Horas': 6531.08}, {'Año': 2017, 'Horas': 3538.0}, {'Año': 2018, 'Horas': 5.7}]}\n"
     ]
    }
   ],
   "source": [
    "resultado2 = UserForGenre('Action')\n",
    "print(resultado2)\n"
   ]
  },
  {
   "cell_type": "code",
   "execution_count": 17,
   "metadata": {},
   "outputs": [],
   "source": [
    "# FUNCION 3 Y 4\n",
    "df_fc3_4 = pd.read_csv('funcion_3_4.csv')\n",
    "\n",
    "df_funcion3_4 = pd.DataFrame(df_fc3_4)"
   ]
  },
  {
   "cell_type": "code",
   "execution_count": 18,
   "metadata": {},
   "outputs": [],
   "source": [
    "# Elimino columna 'Unnamed' no es necesaria\n",
    "df_final_f3_4 = df_funcion3_4.drop('Unnamed: 0', axis=1)"
   ]
  },
  {
   "cell_type": "code",
   "execution_count": 19,
   "metadata": {},
   "outputs": [
    {
     "data": {
      "text/html": [
       "<div>\n",
       "<style scoped>\n",
       "    .dataframe tbody tr th:only-of-type {\n",
       "        vertical-align: middle;\n",
       "    }\n",
       "\n",
       "    .dataframe tbody tr th {\n",
       "        vertical-align: top;\n",
       "    }\n",
       "\n",
       "    .dataframe thead th {\n",
       "        text-align: right;\n",
       "    }\n",
       "</style>\n",
       "<table border=\"1\" class=\"dataframe\">\n",
       "  <thead>\n",
       "    <tr style=\"text-align: right;\">\n",
       "      <th></th>\n",
       "      <th>id</th>\n",
       "      <th>title</th>\n",
       "      <th>Item_id</th>\n",
       "      <th>Recommend</th>\n",
       "      <th>Year_Posted</th>\n",
       "    </tr>\n",
       "  </thead>\n",
       "  <tbody>\n",
       "    <tr>\n",
       "      <th>0</th>\n",
       "      <td>282010</td>\n",
       "      <td>Carmageddon Max Pack</td>\n",
       "      <td>282010</td>\n",
       "      <td>True</td>\n",
       "      <td>2015</td>\n",
       "    </tr>\n",
       "    <tr>\n",
       "      <th>1</th>\n",
       "      <td>70</td>\n",
       "      <td>Half-Life</td>\n",
       "      <td>70</td>\n",
       "      <td>True</td>\n",
       "      <td>2013</td>\n",
       "    </tr>\n",
       "    <tr>\n",
       "      <th>2</th>\n",
       "      <td>70</td>\n",
       "      <td>Half-Life</td>\n",
       "      <td>70</td>\n",
       "      <td>True</td>\n",
       "      <td>2014</td>\n",
       "    </tr>\n",
       "    <tr>\n",
       "      <th>3</th>\n",
       "      <td>70</td>\n",
       "      <td>Half-Life</td>\n",
       "      <td>70</td>\n",
       "      <td>True</td>\n",
       "      <td>2013</td>\n",
       "    </tr>\n",
       "    <tr>\n",
       "      <th>4</th>\n",
       "      <td>70</td>\n",
       "      <td>Half-Life</td>\n",
       "      <td>70</td>\n",
       "      <td>True</td>\n",
       "      <td>2015</td>\n",
       "    </tr>\n",
       "  </tbody>\n",
       "</table>\n",
       "</div>"
      ],
      "text/plain": [
       "       id                 title  Item_id  Recommend  Year_Posted\n",
       "0  282010  Carmageddon Max Pack   282010       True         2015\n",
       "1      70             Half-Life       70       True         2013\n",
       "2      70             Half-Life       70       True         2014\n",
       "3      70             Half-Life       70       True         2013\n",
       "4      70             Half-Life       70       True         2015"
      ]
     },
     "execution_count": 19,
     "metadata": {},
     "output_type": "execute_result"
    }
   ],
   "source": [
    "df_final_f3_4.head()"
   ]
  },
  {
   "cell_type": "code",
   "execution_count": 20,
   "metadata": {},
   "outputs": [],
   "source": [
    "\n",
    "def UsersRecommend(year: int):\n",
    "    # Verifica si el año está en el dataframe\n",
    "    if year not in df_final_f3_4['Year_Posted'].unique():\n",
    "        return \"No se encuentra el año solicitado\"\n",
    "    \n",
    "    # Filtra el dataframe por el año y las recomendaciones\n",
    "    df_filtered = df_final_f3_4[(df_final_f3_4['Year_Posted'] == year) & (df_final_f3_4['Recommend'] == True)]\n",
    "    \n",
    "    # Cuenta las recomendaciones por juego\n",
    "    recommend_counts = df_filtered['title'].value_counts()\n",
    "    \n",
    "    # Obtiene el top 3 de juegos más recomendados\n",
    "    top_3 = recommend_counts.nlargest(3)\n",
    "    \n",
    "    # Crea una lista para almacenar los resultados\n",
    "    results = []\n",
    "    \n",
    "    # Itera sobre el top 3 y añade cada juego a los resultados\n",
    "    for i, (game, count) in enumerate(top_3.items(), start=1):\n",
    "        results.append({f\"Puesto {i}\": game})\n",
    "    \n",
    "    return results"
   ]
  },
  {
   "cell_type": "code",
   "execution_count": 21,
   "metadata": {},
   "outputs": [
    {
     "name": "stdout",
     "output_type": "stream",
     "text": [
      "[{'Puesto 1': 'Team Fortress 2'}, {'Puesto 2': 'Terraria'}, {'Puesto 3': 'Left 4 Dead 2'}]\n"
     ]
    }
   ],
   "source": [
    "resultado3 = UsersRecommend(2012)\n",
    "print(resultado3)\n"
   ]
  },
  {
   "cell_type": "code",
   "execution_count": 22,
   "metadata": {},
   "outputs": [],
   "source": [
    "def UsersNotRecommend(year: int):\n",
    "    # Verifica si el año está en el dataframe\n",
    "    if year not in df_final_f3_4['Year_Posted'].unique():\n",
    "        return \"No se encuentra el año solicitado\"\n",
    "    \n",
    "    # Filtra el dataframe por el año y las no recomendaciones\n",
    "    df_filtered = df_final_f3_4[(df_final_f3_4['Year_Posted'] == year) & (df_final_f3_4['Recommend'] == False)]\n",
    "    \n",
    "    # Cuenta las no recomendaciones por juego\n",
    "    not_recommend_counts = df_filtered['title'].value_counts()\n",
    "    \n",
    "    # Obtiene el top 3 de juegos menos recomendados\n",
    "    top_3 = not_recommend_counts.nlargest(3)\n",
    "    \n",
    "    # Crea una lista para almacenar los resultados\n",
    "    results = []\n",
    "    \n",
    "    # Itera sobre el top 3 y añade cada juego a los resultados\n",
    "    for i, (game, count) in enumerate(top_3.items(), start=1):\n",
    "        results.append({f\"Puesto {i}\": game})\n",
    "    \n",
    "    return results\n"
   ]
  },
  {
   "cell_type": "code",
   "execution_count": 23,
   "metadata": {},
   "outputs": [
    {
     "name": "stdout",
     "output_type": "stream",
     "text": [
      "[{'Puesto 1': 'Team Fortress 2'}]\n"
     ]
    }
   ],
   "source": [
    "resultado4 = UsersNotRecommend(2010)\n",
    "print(resultado4)"
   ]
  },
  {
   "cell_type": "code",
   "execution_count": 24,
   "metadata": {},
   "outputs": [],
   "source": [
    "# Funcion 5\n",
    "\n",
    "df_fc5 = pd.read_csv('funcion_5.csv')\n",
    "\n",
    "df_funcion_5 = pd.DataFrame(df_fc5)"
   ]
  },
  {
   "cell_type": "code",
   "execution_count": 25,
   "metadata": {},
   "outputs": [
    {
     "data": {
      "text/html": [
       "<div>\n",
       "<style scoped>\n",
       "    .dataframe tbody tr th:only-of-type {\n",
       "        vertical-align: middle;\n",
       "    }\n",
       "\n",
       "    .dataframe tbody tr th {\n",
       "        vertical-align: top;\n",
       "    }\n",
       "\n",
       "    .dataframe thead th {\n",
       "        text-align: right;\n",
       "    }\n",
       "</style>\n",
       "<table border=\"1\" class=\"dataframe\">\n",
       "  <thead>\n",
       "    <tr style=\"text-align: right;\">\n",
       "      <th></th>\n",
       "      <th>Unnamed: 0</th>\n",
       "      <th>release_year</th>\n",
       "      <th>id</th>\n",
       "      <th>Item_id</th>\n",
       "      <th>sentiment_analysis</th>\n",
       "    </tr>\n",
       "  </thead>\n",
       "  <tbody>\n",
       "    <tr>\n",
       "      <th>0</th>\n",
       "      <td>0</td>\n",
       "      <td>1997</td>\n",
       "      <td>282010</td>\n",
       "      <td>282010</td>\n",
       "      <td>2</td>\n",
       "    </tr>\n",
       "    <tr>\n",
       "      <th>1</th>\n",
       "      <td>1</td>\n",
       "      <td>1998</td>\n",
       "      <td>70</td>\n",
       "      <td>70</td>\n",
       "      <td>2</td>\n",
       "    </tr>\n",
       "    <tr>\n",
       "      <th>2</th>\n",
       "      <td>2</td>\n",
       "      <td>1998</td>\n",
       "      <td>70</td>\n",
       "      <td>70</td>\n",
       "      <td>0</td>\n",
       "    </tr>\n",
       "    <tr>\n",
       "      <th>3</th>\n",
       "      <td>3</td>\n",
       "      <td>1998</td>\n",
       "      <td>70</td>\n",
       "      <td>70</td>\n",
       "      <td>2</td>\n",
       "    </tr>\n",
       "    <tr>\n",
       "      <th>4</th>\n",
       "      <td>4</td>\n",
       "      <td>1998</td>\n",
       "      <td>70</td>\n",
       "      <td>70</td>\n",
       "      <td>2</td>\n",
       "    </tr>\n",
       "  </tbody>\n",
       "</table>\n",
       "</div>"
      ],
      "text/plain": [
       "   Unnamed: 0  release_year      id  Item_id  sentiment_analysis\n",
       "0           0          1997  282010   282010                   2\n",
       "1           1          1998      70       70                   2\n",
       "2           2          1998      70       70                   0\n",
       "3           3          1998      70       70                   2\n",
       "4           4          1998      70       70                   2"
      ]
     },
     "execution_count": 25,
     "metadata": {},
     "output_type": "execute_result"
    }
   ],
   "source": [
    "df_funcion_5.head()"
   ]
  },
  {
   "cell_type": "code",
   "execution_count": 26,
   "metadata": {},
   "outputs": [],
   "source": [
    "# Elimino columna 'Unnamed' no es necesaria\n",
    "df_final_5 = df_funcion_5.drop('Unnamed: 0', axis=1)"
   ]
  },
  {
   "cell_type": "code",
   "execution_count": 27,
   "metadata": {},
   "outputs": [
    {
     "data": {
      "text/html": [
       "<div>\n",
       "<style scoped>\n",
       "    .dataframe tbody tr th:only-of-type {\n",
       "        vertical-align: middle;\n",
       "    }\n",
       "\n",
       "    .dataframe tbody tr th {\n",
       "        vertical-align: top;\n",
       "    }\n",
       "\n",
       "    .dataframe thead th {\n",
       "        text-align: right;\n",
       "    }\n",
       "</style>\n",
       "<table border=\"1\" class=\"dataframe\">\n",
       "  <thead>\n",
       "    <tr style=\"text-align: right;\">\n",
       "      <th></th>\n",
       "      <th>release_year</th>\n",
       "      <th>id</th>\n",
       "      <th>Item_id</th>\n",
       "      <th>sentiment_analysis</th>\n",
       "    </tr>\n",
       "  </thead>\n",
       "  <tbody>\n",
       "    <tr>\n",
       "      <th>0</th>\n",
       "      <td>1997</td>\n",
       "      <td>282010</td>\n",
       "      <td>282010</td>\n",
       "      <td>2</td>\n",
       "    </tr>\n",
       "    <tr>\n",
       "      <th>1</th>\n",
       "      <td>1998</td>\n",
       "      <td>70</td>\n",
       "      <td>70</td>\n",
       "      <td>2</td>\n",
       "    </tr>\n",
       "    <tr>\n",
       "      <th>2</th>\n",
       "      <td>1998</td>\n",
       "      <td>70</td>\n",
       "      <td>70</td>\n",
       "      <td>0</td>\n",
       "    </tr>\n",
       "    <tr>\n",
       "      <th>3</th>\n",
       "      <td>1998</td>\n",
       "      <td>70</td>\n",
       "      <td>70</td>\n",
       "      <td>2</td>\n",
       "    </tr>\n",
       "    <tr>\n",
       "      <th>4</th>\n",
       "      <td>1998</td>\n",
       "      <td>70</td>\n",
       "      <td>70</td>\n",
       "      <td>2</td>\n",
       "    </tr>\n",
       "  </tbody>\n",
       "</table>\n",
       "</div>"
      ],
      "text/plain": [
       "   release_year      id  Item_id  sentiment_analysis\n",
       "0          1997  282010   282010                   2\n",
       "1          1998      70       70                   2\n",
       "2          1998      70       70                   0\n",
       "3          1998      70       70                   2\n",
       "4          1998      70       70                   2"
      ]
     },
     "execution_count": 27,
     "metadata": {},
     "output_type": "execute_result"
    }
   ],
   "source": [
    "df_final_5.head()"
   ]
  },
  {
   "cell_type": "code",
   "execution_count": 28,
   "metadata": {},
   "outputs": [],
   "source": [
    "def sentiment_analysis(year: int):\n",
    "\n",
    "    # Verifica si el año está en el dataframe\n",
    "    if year not in df_final_5['release_year'].unique():\n",
    "        return \"No se encuentra el año solicitado\"\n",
    "    # Filtrar el dataframe por el año dado\n",
    "    df_año = df_final_5[df_final_5['release_year'] == year]\n",
    "    \n",
    "     # Contar los valores de 'sentiment_analysis'\n",
    "    sentiment_counts = df_año['sentiment_analysis'].value_counts()\n",
    "    \n",
    "    # Crear un diccionario para almacenar los resultados\n",
    "    results = {}\n",
    "    \n",
    "    # Mapear los valores de 'sentiment_analysis' a sus respectivas categorías\n",
    "    for i in sentiment_counts.index:\n",
    "        if i == 0:\n",
    "            results['Negative'] = int(sentiment_counts[i])\n",
    "        elif i == 1:\n",
    "            results['Neutral'] = int(sentiment_counts[i])\n",
    "        elif i == 2:\n",
    "            results['Positive'] = int(sentiment_counts[i])\n",
    "    \n",
    "    return results\n",
    "\n",
    "\n",
    "\n",
    "\n",
    "\n",
    "\n",
    "\n",
    "\n"
   ]
  },
  {
   "cell_type": "code",
   "execution_count": 29,
   "metadata": {},
   "outputs": [
    {
     "name": "stdout",
     "output_type": "stream",
     "text": [
      "{'Positive': 1862, 'Negative': 348, 'Neutral': 68}\n"
     ]
    }
   ],
   "source": [
    "# Llamar a la función con un año de prueba\n",
    "resultados5 = sentiment_analysis(2012)\n",
    "\n",
    "print(resultados5)"
   ]
  }
 ],
 "metadata": {
  "kernelspec": {
   "display_name": "Python 3",
   "language": "python",
   "name": "python3"
  },
  "language_info": {
   "codemirror_mode": {
    "name": "ipython",
    "version": 3
   },
   "file_extension": ".py",
   "mimetype": "text/x-python",
   "name": "python",
   "nbconvert_exporter": "python",
   "pygments_lexer": "ipython3",
   "version": "3.11.4"
  }
 },
 "nbformat": 4,
 "nbformat_minor": 2
}
